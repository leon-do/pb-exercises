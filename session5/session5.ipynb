{
 "cells": [
  {
   "cell_type": "code",
   "execution_count": 82,
   "metadata": {},
   "outputs": [],
   "source": [
    "# import everything and define a test runner function\n",
    "from importlib import reload\n",
    "from helper import run_test\n",
    "\n",
    "import ecc\n",
    "import helper\n",
    "import script\n",
    "import tx"
   ]
  },
  {
   "cell_type": "markdown",
   "metadata": {},
   "source": [
    "### Exercise 1\n",
    "\n",
    "#### 1.1. Make [this test](/edit/session5/tx.py) pass\n",
    "```\n",
    "tx.py:TxTest::test_verify_input\n",
    "```"
   ]
  },
  {
   "cell_type": "code",
   "execution_count": 84,
   "metadata": {},
   "outputs": [
    {
     "name": "stderr",
     "output_type": "stream",
     "text": [
      "E\n",
      "======================================================================\n",
      "ERROR: test_verify_input (tx.TxTest)\n",
      "----------------------------------------------------------------------\n",
      "Traceback (most recent call last):\n",
      "  File \"/Users/leondo/Desktop/pb-exercises/session5/tx.py\", line 232, in fetch_tx\n",
      "    js_response = response.json()\n",
      "  File \"/Users/leondo/Desktop/pb-exercises/.venv/lib/python3.7/site-packages/requests/models.py\", line 896, in json\n",
      "    return complexjson.loads(self.text, **kwargs)\n",
      "  File \"/Library/Frameworks/Python.framework/Versions/3.7/lib/python3.7/json/__init__.py\", line 348, in loads\n",
      "    return _default_decoder.decode(s)\n",
      "  File \"/Library/Frameworks/Python.framework/Versions/3.7/lib/python3.7/json/decoder.py\", line 337, in decode\n",
      "    obj, end = self.raw_decode(s, idx=_w(s, 0).end())\n",
      "  File \"/Library/Frameworks/Python.framework/Versions/3.7/lib/python3.7/json/decoder.py\", line 355, in raw_decode\n",
      "    raise JSONDecodeError(\"Expecting value\", s, err.value) from None\n",
      "json.decoder.JSONDecodeError: Expecting value: line 1 column 1 (char 0)\n",
      "\n",
      "During handling of the above exception, another exception occurred:\n",
      "\n",
      "Traceback (most recent call last):\n",
      "  File \"/Users/leondo/Desktop/pb-exercises/session5/tx.py\", line 432, in test_verify_input\n",
      "    self.assertTrue(tx.verify_input(0))\n",
      "  File \"/Users/leondo/Desktop/pb-exercises/session5/tx.py\", line 147, in verify_input\n",
      "    z = self.sig_hash(input_index, hash_type)\n",
      "  File \"/Users/leondo/Desktop/pb-exercises/session5/tx.py\", line 120, in sig_hash\n",
      "    script_pubkey = signing_input.script_pubkey(self.testnet)\n",
      "  File \"/Users/leondo/Desktop/pb-exercises/session5/tx.py\", line 258, in script_pubkey\n",
      "    tx = self.fetch_tx(testnet=testnet)\n",
      "  File \"/Users/leondo/Desktop/pb-exercises/session5/tx.py\", line 236, in fetch_tx\n",
      "    raise RuntimeError('got from server: {} {}'.format(response.text, url))\n",
      "RuntimeError: got from server:  https://blockexplorer.com/api/rawtx/d1c789a9c60383bf715f3f6ad9d14b91fe55f3deb369fe5d9280cb1a01793f81\n",
      "\n",
      "----------------------------------------------------------------------\n",
      "Ran 1 test in 0.466s\n",
      "\n",
      "FAILED (errors=1)\n"
     ]
    }
   ],
   "source": [
    "# Exercise 1.1\n",
    "\n",
    "reload(tx)\n",
    "run_test(tx.TxTest('test_verify_input'))"
   ]
  },
  {
   "cell_type": "code",
   "execution_count": 86,
   "metadata": {},
   "outputs": [
    {
     "name": "stdout",
     "output_type": "stream",
     "text": [
      "0100000001c847414138fc4e86c97bce0adfe0180d8716d0db7f43b955ebb7a80f3cbc2500000000006b483045022100c7219fbcbe3efe9ef624efa827da85adf6b92f94a9d84f5a0541afb816cdd792022054438ed55be8003d0e9e31348ce30c89b0f7c3f0372200b44a215107573406cf012103935581e52c354cd2f484fe8ed83af7a3097005b2f9c60bff71d35bd795f54b67ffffffff02c09ee605000000001976a914d52ad7ca9b3d096a38e752c2018e6fbc40cdf26f88ac80969800000000001976a914507b27411ccf7f16f10297de6cef3f291623eddf88ac00000000\n"
     ]
    }
   ],
   "source": [
    "# Transaction Construction Example\n",
    "\n",
    "from ecc import PrivateKey\n",
    "from helper import decode_base58, p2pkh_script, SIGHASH_ALL\n",
    "from script import Script\n",
    "from tx import TxIn, TxOut, Tx\n",
    "\n",
    "# Step 1\n",
    "tx_ins = []\n",
    "prev_tx = bytes.fromhex('0025bc3c0fa8b7eb55b9437fdbd016870d18e0df0ace7bc9864efc38414147c8')\n",
    "tx_ins.append(TxIn(\n",
    "            prev_tx=prev_tx,\n",
    "            prev_index=0,\n",
    "            script_sig=b'',\n",
    "            sequence=0xffffffff,\n",
    "        ))\n",
    "\n",
    "# Step 2 creating output\n",
    "tx_outs = []\n",
    "# return address\n",
    "h160 = decode_base58('mzx5YhAH9kNHtcN481u6WkjeHjYtVeKVh2')\n",
    "tx_outs.append(TxOut(\n",
    "    amount=int(0.99*100000000),\n",
    "    script_pubkey=p2pkh_script(h160),\n",
    "))\n",
    "# to address\n",
    "h160 = decode_base58('mnrVtF8DWjMu839VW3rBfgYaAfKk8983Xf')\n",
    "tx_outs.append(TxOut(\n",
    "    amount=int(0.1*100000000),\n",
    "    script_pubkey=p2pkh_script(h160),\n",
    "))\n",
    "tx_obj = Tx(version=1, tx_ins=tx_ins, tx_outs=tx_outs, locktime=0, testnet=True)\n",
    "\n",
    "# Step 3 signing\n",
    "hash_type = SIGHASH_ALL\n",
    "z = tx_obj.sig_hash(0, hash_type)\n",
    "pk = PrivateKey(secret=8675309)\n",
    "# serialize to der sig\n",
    "der = pk.sign(z).der()\n",
    "# append 1 byte to say SIGHASH_ALL\n",
    "sig = der + hash_type.to_bytes(1, 'big')\n",
    "sec = pk.point.sec()\n",
    "tx_obj.tx_ins[0].script_sig = Script([sig, sec])\n",
    "print(tx_obj.serialize().hex())"
   ]
  },
  {
   "cell_type": "markdown",
   "metadata": {},
   "source": [
    "### Exercise 2\n",
    "\n",
    "#### 2.1. Make [this test](/edit/session5/tx.py) pass\n",
    "```\n",
    "tx.py:TxTest:test_sign_input\n",
    "```"
   ]
  },
  {
   "cell_type": "code",
   "execution_count": 4,
   "metadata": {},
   "outputs": [
    {
     "name": "stderr",
     "output_type": "stream",
     "text": [
      ".\n",
      "----------------------------------------------------------------------\n",
      "Ran 1 test in 1.107s\n",
      "\n",
      "OK\n"
     ]
    }
   ],
   "source": [
    "# Exercise 2.1\n",
    "\n",
    "reload(tx)\n",
    "run_test(tx.TxTest('test_sign_input'))"
   ]
  },
  {
   "cell_type": "markdown",
   "metadata": {},
   "source": [
    "### Exercise 3\n",
    "\n",
    "#### 3.1. Send 0.04 TBTC to this address `muvpVznkBtk8rRSxLRVQRdUhsMjS7aKRne`\n",
    "\n",
    "#### Go here to send your transaction: https://testnet.blockexplorer.com/tx/send\n",
    "\n",
    "#### Bonus. Get some testnet coins and spend both outputs (one from your change address and one from the testnet faucet) to `muvpVznkBtk8rRSxLRVQRdUhsMjS7aKRne`\n",
    "\n",
    "#### You can get some free testnet coins at: https://testnet.coinfaucet.eu/en/"
   ]
  },
  {
   "cell_type": "code",
   "execution_count": 87,
   "metadata": {},
   "outputs": [
    {
     "name": "stdout",
     "output_type": "stream",
     "text": [
      "mzx5YhAH9kNHtcN481u6WkjeHjYtVeKVh2\n",
      "0100000001c847414138fc4e86c97bce0adfe0180d8716d0db7f43b955ebb7a80f3cbc2500000000006a473044022068c759f3fca99e1e70e55be38f09a44d8dc29d2214d997e8f58d1acd0a478699022006659a2afd4c72d3822d754777626b487192a86b27a796835740f272f1d47417012103935581e52c354cd2f484fe8ed83af7a3097005b2f9c60bff71d35bd795f54b67ffffffff0280841e00000000001976a9141ec51b3654c1f1d0f4929d11a1f702937eaf50c888acc0b06006000000001976a914d52ad7ca9b3d096a38e752c2018e6fbc40cdf26f88ac00000000\n"
     ]
    }
   ],
   "source": [
    "# Exercise 3.1\n",
    "reload(tx)\n",
    "from ecc import PrivateKey\n",
    "from helper import decode_base58, p2pkh_script, SIGHASH_ALL\n",
    "from script import Script\n",
    "from tx import TxIn, TxOut, Tx\n",
    "\n",
    "prev_tx = bytes.fromhex('0025bc3c0fa8b7eb55b9437fdbd016870d18e0df0ace7bc9864efc38414147c8')\n",
    "prev_index = 0\n",
    "target_address = 'miKegze5FQNCnGw6PKyqUbYUeBa4x2hFeM'\n",
    "target_amount = 0.02\n",
    "change_address = 'mzx5YhAH9kNHtcN481u6WkjeHjYtVeKVh2'\n",
    "change_amount = 1.07\n",
    "secret = 8675309\n",
    "priv = PrivateKey(secret=secret)\n",
    "print(priv.point.address(testnet=True))\n",
    "\n",
    "# initialize inputs\n",
    "tx_ins = []\n",
    "# create a new tx input with prev_tx, prev_index, blank script_sig and max sequence\n",
    "tx_ins.append(TxIn(\n",
    "            prev_tx=prev_tx,\n",
    "            prev_index=prev_index,\n",
    "            script_sig=b'',\n",
    "            sequence=0xffffffff,\n",
    "        ))\n",
    "\n",
    "# initialize outputs\n",
    "tx_outs = []\n",
    "# decode the hash160 from the target address\n",
    "h160 = decode_base58(target_address)\n",
    "# convert hash160 to p2pkh script\n",
    "script_pubkey = p2pkh_script(h160)\n",
    "# convert target amount to satoshis (multiply by 100 million)\n",
    "target_satoshis = int(target_amount*100000000)\n",
    "# create a new tx output for target with amount and script_pubkey\n",
    "tx_outs.append(TxOut(\n",
    "    amount=target_satoshis,\n",
    "    script_pubkey=script_pubkey,\n",
    "))\n",
    "# decode the hash160 from the change address\n",
    "h160 = decode_base58(change_address)\n",
    "# convert hash160 to p2pkh script\n",
    "script_pubkey = p2pkh_script(h160)\n",
    "# convert change amount to satoshis (multiply by 100 million)\n",
    "change_satoshis = int(change_amount*100000000)\n",
    "# create a new tx output for target with amount and script_pubkey\n",
    "tx_outs.append(TxOut(\n",
    "    amount=change_satoshis,\n",
    "    script_pubkey=script_pubkey,\n",
    "))\n",
    "\n",
    "# create the transaction\n",
    "tx_obj = Tx(version=1, tx_ins=tx_ins, tx_outs=tx_outs, locktime=0, testnet=True)\n",
    "\n",
    "# now sign the 0th input with the private key using SIGHASH_ALL using sign_input\n",
    "tx_obj.sign_input(0, priv, SIGHASH_ALL)\n",
    "\n",
    "# SANITY CHECK: change address corresponds to private key\n",
    "if priv.point.address(testnet=True) != change_address:\n",
    "    raise RuntimeError('Private Key does not correspond to Change Address, check priv_key and change_address')\n",
    "\n",
    "# SANITY CHECK: output's script_pubkey is the same one as your address\n",
    "if tx_ins[0].script_pubkey(testnet=True).elements[2] != decode_base58(change_address):\n",
    "    raise RuntimeError('Output is not something you can spend with this private key. Check that the prev_tx and prev_index are correct')\n",
    "\n",
    "# SANITY CHECK: fee is reasonable\n",
    "if tx_obj.fee(testnet=True) > 0.05*100000000 or tx_obj.fee(testnet=True) <= 0:\n",
    "    raise RuntimeError('Check that the change amount is reasonable. Fee is {}'.format(tx_obj.fee()))\n",
    "\n",
    "# serialize and hex()\n",
    "print(tx_obj.serialize().hex())"
   ]
  },
  {
   "cell_type": "code",
   "execution_count": 105,
   "metadata": {},
   "outputs": [
    {
     "name": "stdout",
     "output_type": "stream",
     "text": [
      "01000000025707157a4233a82fec67e673c10b15e4d7ed8469d28f66e9bedc400da61a4a7e000000006a47304402206772df1ba9de38706252553516b3a796001cb2949b46267f19e20458716918690220188847389041030bbdcb3671978fbd7fab15fe433d2f129bd8bbff0cbc017a7c012102083c6173c0b4f6da33d65a0d4a76d74fcbc2a02678d7e18f3995e947f134502dffffffff6ebedbfbfde848f36fbaf0913b949ef19e2ea24eb6d9f7645e81fed17804dd1e000000006b483045022100f5c342ffe696bb90d041043f1af4ef5dd1516ee699f7678c32dff9661e3d63fa022023c96a2fa6a498cb06d0acac878c30933dfad7c31639b8431a9fe052e76b4663012102083c6173c0b4f6da33d65a0d4a76d74fcbc2a02678d7e18f3995e947f134502dffffffff0160b45608000000001976a9149e153ce5de3689901301309b9e8d804ab4804d4b88ac00000000\n"
     ]
    }
   ],
   "source": [
    "# Bonus\n",
    "\n",
    "from ecc import PrivateKey\n",
    "from helper import decode_base58, p2pkh_script, SIGHASH_ALL\n",
    "from script import Script\n",
    "from tx import TxIn, TxOut, Tx\n",
    "\n",
    "prev_tx_1 = bytes.fromhex('7e4a1aa60d40dcbee9668fd26984edd7e4150bc173e667ec2fa833427a150757')\n",
    "prev_index_1 = 0\n",
    "prev_tx_2 = bytes.fromhex('1edd0478d1fe815e64f7d9b64ea22e9ef19e943b91f0ba6ff348e8fdfbdbbe6e')\n",
    "prev_index_2 = 0\n",
    "target_address = 'muvpVznkBtk8rRSxLRVQRdUhsMjS7aKRne'\n",
    "target_amount = 1.399 # 140000000 satoshis\n",
    "secret = 234235467456856745634524\n",
    "priv = PrivateKey(secret=secret)\n",
    "\n",
    "# initialize inputs\n",
    "tx_ins = []\n",
    "# create the first tx input with prev_tx_1, prev_index_1, blank script_sig and max sequence\n",
    "tx_ins.append(TxIn(\n",
    "    prev_tx=prev_tx_1,\n",
    "    prev_index=prev_index_1,\n",
    "    script_sig=b'',\n",
    "    sequence=0xffffffff,\n",
    "))\n",
    "# create the second tx input with prev_tx_2, prev_index_2, blank script_sig and max sequence\n",
    "tx_ins.append(TxIn(\n",
    "    prev_tx=prev_tx_2,\n",
    "    prev_index=prev_index_2,\n",
    "    script_sig=b'',\n",
    "    sequence=0xffffffff,\n",
    "))\n",
    "\n",
    "# initialize outputs\n",
    "tx_outs = []\n",
    "# decode the hash160 from the target address\n",
    "h160 = decode_base58(target_address)\n",
    "# convert hash160 to p2pkh script\n",
    "script_pubkey = p2pkh_script(h160)\n",
    "# convert target amount to satoshis (multiply by 100 million)\n",
    "target_satoshis = int(target_amount*100000000)\n",
    "# create a single tx output for target with amount and script_pubkey\n",
    "tx_outs.append(TxOut(\n",
    "    amount=target_satoshis,\n",
    "    script_pubkey=script_pubkey,\n",
    "))\n",
    "\n",
    "# create the transaction\n",
    "tx_obj = Tx(1, tx_ins, tx_outs, 0, testnet=True)\n",
    "\n",
    "# sign both inputs with the private key using SIGHASH_ALL using sign_input\n",
    "tx_obj.sign_input(0, priv, SIGHASH_ALL)\n",
    "tx_obj.sign_input(1, priv, SIGHASH_ALL)\n",
    "\n",
    "# SANITY CHECK: output's script_pubkey is the same one as your address\n",
    "if tx_ins[0].script_pubkey(testnet=True).elements[2] != decode_base58(priv.point.address(testnet=True)):\n",
    "    raise RuntimeError('Output is not something you can spend with this private key. Check that the prev_tx and prev_index are correct')\n",
    "\n",
    "# SANITY CHECK: fee is reasonable\n",
    "# if tx_obj.fee(testnet=True) > 0.05*100000000 or tx_obj.fee(testnet=True) <= 0:\n",
    "#     raise RuntimeError('Check that the change amount is reasonable. Fee is {}'.format(tx_obj.fee()))\n",
    "\n",
    "# serialize and hex()\n",
    "print(tx_obj.serialize().hex())"
   ]
  },
  {
   "cell_type": "markdown",
   "metadata": {},
   "source": [
    "### Exercise 4\n",
    "\n",
    "#### 4.1. Find the hash160 of the RedeemScript\n",
    "```\n",
    "5221022626e955ea6ea6d98850c994f9107b036b1334f18ca8830bfff1295d21cfdb702103b287eaf122eea69030a0e9feed096bed8045c8b98bec453e1ffac7fbdbd4bb7152ae\n",
    "```"
   ]
  },
  {
   "cell_type": "code",
   "execution_count": 106,
   "metadata": {},
   "outputs": [
    {
     "name": "stdout",
     "output_type": "stream",
     "text": [
      "74d691da1574e6b3c192ecfb52cc8984ee7b6c56\n"
     ]
    }
   ],
   "source": [
    "# Exercise 4.1\n",
    "\n",
    "from helper import hash160\n",
    "\n",
    "hex_redeem_script = '5221022626e955ea6ea6d98850c994f9107b036b1334f18ca8830bfff1295d21cfdb702103b287eaf122eea69030a0e9feed096bed8045c8b98bec453e1ffac7fbdbd4bb7152ae'\n",
    "\n",
    "# bytes.fromhex script\n",
    "redeem_script = bytes.fromhex(hex_redeem_script)\n",
    "# hash160 result\n",
    "h160 = hash160(redeem_script)\n",
    "# hex() to display\n",
    "print(h160.hex())"
   ]
  },
  {
   "cell_type": "code",
   "execution_count": 8,
   "metadata": {},
   "outputs": [
    {
     "name": "stdout",
     "output_type": "stream",
     "text": [
      "3CLoMMyuoDQTPRD3XYZtCvgvkadrAdvdXh\n"
     ]
    }
   ],
   "source": [
    "# P2SH address construction example\n",
    "\n",
    "from helper import encode_base58_checksum\n",
    "\n",
    "print(encode_base58_checksum(b'\\x05'+bytes.fromhex('74d691da1574e6b3c192ecfb52cc8984ee7b6c56')))"
   ]
  },
  {
   "cell_type": "markdown",
   "metadata": {},
   "source": [
    "### Exercise 5\n",
    "\n",
    "#### 5.1. Make [these tests](/edit/session5/helper.py) pass\n",
    "```\n",
    "helper.py:HelperTest:test_p2pkh_address\n",
    "helper.py:HelperTest:test_p2sh_address\n",
    "```"
   ]
  },
  {
   "cell_type": "code",
   "execution_count": 103,
   "metadata": {},
   "outputs": [
    {
     "name": "stderr",
     "output_type": "stream",
     "text": [
      ".\n",
      "----------------------------------------------------------------------\n",
      "Ran 1 test in 0.001s\n",
      "\n",
      "OK\n",
      ".\n",
      "----------------------------------------------------------------------\n",
      "Ran 1 test in 0.001s\n",
      "\n",
      "OK\n"
     ]
    }
   ],
   "source": [
    "# Exercise 5.1\n",
    "\n",
    "reload(helper)\n",
    "run_test(helper.HelperTest('test_p2pkh_address'))\n",
    "run_test(helper.HelperTest('test_p2sh_address'))"
   ]
  },
  {
   "cell_type": "code",
   "execution_count": 112,
   "metadata": {},
   "outputs": [
    {
     "name": "stdout",
     "output_type": "stream",
     "text": [
      "0xe71bfa115715d6fd33796948126f40a8cdd39f187e4afb03896795189fe1423c\n",
      "0xe71bfa115715d6fd33796948126f40a8cdd39f187e4afb03896795189fe1423c\n"
     ]
    }
   ],
   "source": [
    "# z for p2sh example\n",
    "# hash the pay script\n",
    "from helper import double_sha256\n",
    "import hashlib\n",
    "\n",
    "# hash script\n",
    "sha = double_sha256(bytes.fromhex('0100000001868278ed6ddfb6c1ed3ad5f8181eb0c7a385aa0836f01d5e4789e6bd304d87221a000000475221022626e955ea6ea6d98850c994f9107b036b1334f18ca8830bfff1295d21cfdb702103b287eaf122eea69030a0e9feed096bed8045c8b98bec453e1ffac7fbdbd4bb7152aeffffffff04d3b11400000000001976a914904a49878c0adfc3aa05de7afad2cc15f483a56a88ac7f400900000000001976a914418327e3f3dda4cf5b9089325a4b95abdfa0334088ac722c0c00000000001976a914ba35042cfe9fc66fd35ac2224eebdafd1028ad2788acdc4ace020000000017a91474d691da1574e6b3c192ecfb52cc8984ee7b6c56870000000001000000'))\n",
    "z = int.from_bytes(sha, 'big')\n",
    "print(hex(z))\n",
    "\n",
    "# another way of hashing\n",
    "sha_again = hashlib.sha256(hashlib.sha256(bytes.fromhex('0100000001868278ed6ddfb6c1ed3ad5f8181eb0c7a385aa0836f01d5e4789e6bd304d87221a000000475221022626e955ea6ea6d98850c994f9107b036b1334f18ca8830bfff1295d21cfdb702103b287eaf122eea69030a0e9feed096bed8045c8b98bec453e1ffac7fbdbd4bb7152aeffffffff04d3b11400000000001976a914904a49878c0adfc3aa05de7afad2cc15f483a56a88ac7f400900000000001976a914418327e3f3dda4cf5b9089325a4b95abdfa0334088ac722c0c00000000001976a914ba35042cfe9fc66fd35ac2224eebdafd1028ad2788acdc4ace020000000017a91474d691da1574e6b3c192ecfb52cc8984ee7b6c56870000000001000000')).digest()).digest()\n",
    "z_again = int.from_bytes(sha_again, 'big')\n",
    "print(hex(z_again))"
   ]
  },
  {
   "cell_type": "code",
   "execution_count": 11,
   "metadata": {},
   "outputs": [
    {
     "name": "stdout",
     "output_type": "stream",
     "text": [
      "True\n"
     ]
    }
   ],
   "source": [
    "# p2sh verification example\n",
    "\n",
    "# 1. empty scriptsig\n",
    "# 2. replace scriptsig at indiex with redeem script\n",
    "# 3. append hashtype at the end\n",
    "# 4. souble sha256 to get the z\n",
    "\n",
    "from ecc import S256Point, Signature\n",
    "from helper import double_sha256\n",
    "\n",
    "sha = double_sha256(bytes.fromhex('0100000001868278ed6ddfb6c1ed3ad5f8181eb0c7a385aa0836f01d5e4789e6bd304d87221a000000475221022626e955ea6ea6d98850c994f9107b036b1334f18ca8830bfff1295d21cfdb702103b287eaf122eea69030a0e9feed096bed8045c8b98bec453e1ffac7fbdbd4bb7152aeffffffff04d3b11400000000001976a914904a49878c0adfc3aa05de7afad2cc15f483a56a88ac7f400900000000001976a914418327e3f3dda4cf5b9089325a4b95abdfa0334088ac722c0c00000000001976a914ba35042cfe9fc66fd35ac2224eebdafd1028ad2788acdc4ace020000000017a91474d691da1574e6b3c192ecfb52cc8984ee7b6c56870000000001000000'))\n",
    "z = int.from_bytes(sha, 'big')\n",
    "point = S256Point.parse(bytes.fromhex('022626e955ea6ea6d98850c994f9107b036b1334f18ca8830bfff1295d21cfdb70'))\n",
    "sig = Signature.parse(bytes.fromhex('3045022100dc92655fe37036f47756db8102e0d7d5e28b3beb83a8fef4f5dc0559bddfb94e02205a36d4e4e6c7fcd16658c50783e00c341609977aed3ad00937bf4ee942a89937'))\n",
    "print(point.verify(z, sig))"
   ]
  },
  {
   "cell_type": "markdown",
   "metadata": {},
   "source": [
    "### Exercise 6\n",
    "\n",
    "#### 6.1. Validate the second signature of the first input\n",
    "\n",
    "```\n",
    "0100000001868278ed6ddfb6c1ed3ad5f8181eb0c7a385aa0836f01d5e4789e6bd304d87221a000000db00483045022100dc92655fe37036f47756db8102e0d7d5e28b3beb83a8fef4f5dc0559bddfb94e02205a36d4e4e6c7fcd16658c50783e00c341609977aed3ad00937bf4ee942a8993701483045022100da6bee3c93766232079a01639d07fa869598749729ae323eab8eef53577d611b02207bef15429dcadce2121ea07f233115c6f09034c0be68db99980b9a6c5e75402201475221022626e955ea6ea6d98850c994f9107b036b1334f18ca8830bfff1295d21cfdb702103b287eaf122eea69030a0e9feed096bed8045c8b98bec453e1ffac7fbdbd4bb7152aeffffffff04d3b11400000000001976a914904a49878c0adfc3aa05de7afad2cc15f483a56a88ac7f400900000000001976a914418327e3f3dda4cf5b9089325a4b95abdfa0334088ac722c0c00000000001976a914ba35042cfe9fc66fd35ac2224eebdafd1028ad2788acdc4ace020000000017a91474d691da1574e6b3c192ecfb52cc8984ee7b6c568700000000\n",
    "```\n",
    "\n",
    "The sec pubkey of the second signature is:\n",
    "```\n",
    "03b287eaf122eea69030a0e9feed096bed8045c8b98bec453e1ffac7fbdbd4bb71\n",
    "```\n",
    "\n",
    "The der signature of the second signature is:\n",
    "```\n",
    "3045022100da6bee3c93766232079a01639d07fa869598749729ae323eab8eef53577d611b02207bef15429dcadce2121ea07f233115c6f09034c0be68db99980b9a6c5e75402201475221022\n",
    "```\n",
    "\n",
    "The redeemScript is:\n",
    "```\n",
    "475221022626e955ea6ea6d98850c994f9107b036b1334f18ca8830bfff1295d21cfdb702103b287eaf122eea69030a0e9feed096bed8045c8b98bec453e1ffac7fbdbd4bb7152ae\n",
    "```"
   ]
  },
  {
   "cell_type": "code",
   "execution_count": 114,
   "metadata": {},
   "outputs": [
    {
     "name": "stdout",
     "output_type": "stream",
     "text": [
      "True\n"
     ]
    }
   ],
   "source": [
    "# Exercise 6.1\n",
    "# verify signature\n",
    "\n",
    "from io import BytesIO\n",
    "from ecc import S256Point, Signature\n",
    "from helper import double_sha256, int_to_little_endian\n",
    "from script import Script\n",
    "from tx import Tx, SIGHASH_ALL\n",
    "\n",
    "hex_sec = '03b287eaf122eea69030a0e9feed096bed8045c8b98bec453e1ffac7fbdbd4bb71'\n",
    "hex_der = '3045022100da6bee3c93766232079a01639d07fa869598749729ae323eab8eef53577d611b02207bef15429dcadce2121ea07f233115c6f09034c0be68db99980b9a6c5e754022'\n",
    "hex_redeem_script = '5221022626e955ea6ea6d98850c994f9107b036b1334f18ca8830bfff1295d21cfdb702103b287eaf122eea69030a0e9feed096bed8045c8b98bec453e1ffac7fbdbd4bb7152ae'\n",
    "\n",
    "# convert hex to bytes\n",
    "sec = bytes.fromhex(hex_sec)\n",
    "der = bytes.fromhex(hex_der)\n",
    "redeem_script = bytes.fromhex(hex_redeem_script)\n",
    "\n",
    "hex_tx = '0100000001868278ed6ddfb6c1ed3ad5f8181eb0c7a385aa0836f01d5e4789e6bd304d87221a000000db00483045022100dc92655fe37036f47756db8102e0d7d5e28b3beb83a8fef4f5dc0559bddfb94e02205a36d4e4e6c7fcd16658c50783e00c341609977aed3ad00937bf4ee942a8993701483045022100da6bee3c93766232079a01639d07fa869598749729ae323eab8eef53577d611b02207bef15429dcadce2121ea07f233115c6f09034c0be68db99980b9a6c5e75402201475221022626e955ea6ea6d98850c994f9107b036b1334f18ca8830bfff1295d21cfdb702103b287eaf122eea69030a0e9feed096bed8045c8b98bec453e1ffac7fbdbd4bb7152aeffffffff04d3b11400000000001976a914904a49878c0adfc3aa05de7afad2cc15f483a56a88ac7f400900000000001976a914418327e3f3dda4cf5b9089325a4b95abdfa0334088ac722c0c00000000001976a914ba35042cfe9fc66fd35ac2224eebdafd1028ad2788acdc4ace020000000017a91474d691da1574e6b3c192ecfb52cc8984ee7b6c568700000000'\n",
    "stream = BytesIO(bytes.fromhex(hex_tx))\n",
    "\n",
    "# parse the S256Point and Signature\n",
    "point = S256Point.parse(sec)\n",
    "sig = Signature.parse(der)\n",
    "# parse the Tx\n",
    "t = Tx.parse(stream)\n",
    "# change the first input's scriptSig to redeemScript (use Script.parse on the redeemScript)\n",
    "t.tx_ins[0].script_sig = Script.parse(redeem_script)\n",
    "# get the serialization\n",
    "ser = t.serialize()\n",
    "# add the sighash (4 bytes, little-endian of SIGHASH_ALL)\n",
    "ser += int_to_little_endian(SIGHASH_ALL, 4)\n",
    "# double_sha256 the result\n",
    "to_sign = double_sha256(ser)\n",
    "# this interpreted is a big-endian number is your z\n",
    "z = int.from_bytes(to_sign, 'big')\n",
    "# now verify the signature using point.verify\n",
    "print(point.verify(z, sig))"
   ]
  },
  {
   "cell_type": "code",
   "execution_count": null,
   "metadata": {},
   "outputs": [],
   "source": []
  }
 ],
 "metadata": {
  "kernelspec": {
   "display_name": "Python 3",
   "language": "python",
   "name": "python3"
  },
  "language_info": {
   "codemirror_mode": {
    "name": "ipython",
    "version": 3
   },
   "file_extension": ".py",
   "mimetype": "text/x-python",
   "name": "python",
   "nbconvert_exporter": "python",
   "pygments_lexer": "ipython3",
   "version": "3.7.0"
  }
 },
 "nbformat": 4,
 "nbformat_minor": 2
}
