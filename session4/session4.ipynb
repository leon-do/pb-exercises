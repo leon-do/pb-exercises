{
 "cells": [
  {
   "cell_type": "code",
   "execution_count": 66,
   "metadata": {},
   "outputs": [],
   "source": [
    "# import everything and define a test runner function\n",
    "from importlib import reload\n",
    "from helper import run_test\n",
    "\n",
    "import ecc\n",
    "import helper\n",
    "import script\n",
    "import tx"
   ]
  },
  {
   "cell_type": "markdown",
   "metadata": {},
   "source": [
    "### Exercise 1\n",
    "\n",
    "#### 1.1. Determine a ScriptSig that will satisfy this scriptPubKey:\n",
    "```\n",
    "767695935687\n",
    "```\n",
    "#### Hint: use the Script.parse method"
   ]
  },
  {
   "cell_type": "code",
   "execution_count": 43,
   "metadata": {},
   "outputs": [
    {
     "name": "stdout",
     "output_type": "stream",
     "text": [
      "OP_DUP OP_DUP OP_MUL OP_ADD OP_6 OP_EQUAL \n"
     ]
    }
   ],
   "source": [
    "# Exercise 1.1\n",
    "\n",
    "from script import Script\n",
    "\n",
    "hex_script = '767695935687'\n",
    "\n",
    "# bytes.fromhex the script\n",
    "# parse the script\n",
    "s = Script.parse(bytes.fromhex(hex_script))\n",
    "print(s)"
   ]
  },
  {
   "cell_type": "markdown",
   "metadata": {},
   "source": [
    "### Exercise 2\n",
    "\n",
    "#### 2.1. Determine what this scriptPubKey is doing:\n",
    "```\n",
    "6e879169a77ca787\n",
    "```\n",
    "\n",
    "#### Hint: Use the Script.parse method and look up what various OP codes do here: \n",
    "#### https://en.bitcoin.it/wiki/Script"
   ]
  },
  {
   "cell_type": "code",
   "execution_count": 44,
   "metadata": {},
   "outputs": [
    {
     "name": "stdout",
     "output_type": "stream",
     "text": [
      "OP_2DUP OP_EQUAL OP_NOT OP_VERIFY OP_SHA1 OP_SWAP OP_SHA1 OP_EQUAL \n"
     ]
    }
   ],
   "source": [
    "# Exercise 2.1\n",
    "\n",
    "from script import Script\n",
    "\n",
    "hex_script = '6e879169a77ca787'\n",
    "\n",
    "# bytes.fromhex the script\n",
    "# parse the script\n",
    "s = Script.parse(bytes.fromhex(hex_script))\n",
    "print(s)"
   ]
  },
  {
   "cell_type": "markdown",
   "metadata": {},
   "source": [
    "### Exercise 3\n",
    "\n",
    "#### 3.1. Make [this test](/edit/session4/tx.py) pass\n",
    "```\n",
    "tx.py:TxTest:test_serialize\n",
    "```"
   ]
  },
  {
   "cell_type": "code",
   "execution_count": 67,
   "metadata": {},
   "outputs": [
    {
     "name": "stderr",
     "output_type": "stream",
     "text": [
      ".\n",
      "----------------------------------------------------------------------\n",
      "Ran 1 test in 0.001s\n",
      "\n",
      "OK\n"
     ]
    }
   ],
   "source": [
    "# Exercise 3.1\n",
    "\n",
    "reload(tx)\n",
    "run_test(tx.TxTest('test_serialize'))\n",
    "\n",
    "# raw_tx = bytes.fromhex('0100000001813f79011acb80925dfe69b3def355fe914bd1d96a3f5f71bf8303c6a989c7d1000000006b483045022100ed81ff192e75a3fd2304004dcadb746fa5e24c5031ccfcf21320b0277457c98f02207a986d955c6e0cb35d446a89d3f56100f4d7f67801c31967743a9c8e10615bed01210349fc4e631e3624a545de3f89f5d8684c7b8138bd94bdd531d2e213bf016b278afeffffff02a135ef01000000001976a914bc3b654dca7e56b04dca18f2566cdaf02e8d9ada88ac99c39800000000001976a9141c4bc762dd5423e332166702cb75f40df79fea1288ac19430600')\n",
    "# stream = BytesIO(raw_tx)\n",
    "# tx = Tx.parse(stream)\n",
    "\n",
    "# print('\\n raw_tx', raw_tx)\n",
    "# print('\\n tx', tx.serialize())\n",
    "\n"
   ]
  },
  {
   "cell_type": "code",
   "execution_count": 65,
   "metadata": {},
   "outputs": [
    {
     "name": "stdout",
     "output_type": "stream",
     "text": [
      "version: 1\n",
      "tx_ins:\n",
      "cbf43825e0b92ba3bfabaec509e14ee9132df1e92ffdfc6636f848fbf0537c13:0\n",
      "590133d8ac653229dfd8d72d2a81564502051f21554f919ae59ac27be7727451:1\n",
      "\n",
      "tx_outs:\n",
      "42505594:OP_DUP OP_HASH160 a802fc56c704ce87c42d7c92eb75e7896bdc41ae OP_EQUALVERIFY OP_CHECKSIG \n",
      "6181285:OP_DUP OP_HASH160 e82bd75c9c662c3f5700b33fec8a676b6e9391d5 OP_EQUALVERIFY OP_CHECKSIG \n",
      "\n",
      "locktime: 0\n",
      "\n"
     ]
    }
   ],
   "source": [
    "# Example of how to look up a transaction using fetch_tx() method\n",
    "\n",
    "from tx import TxIn\n",
    "\n",
    "prev_tx = bytes.fromhex('d1c789a9c60383bf715f3f6ad9d14b91fe55f3deb369fe5d9280cb1a01793f81') \n",
    "tx_in = TxIn(prev_tx, 0, b'', 0xffffffff)\n",
    "print(tx_in.fetch_tx())"
   ]
  },
  {
   "cell_type": "markdown",
   "metadata": {},
   "source": [
    "### Exercise 4\n",
    "\n",
    "\n",
    "#### 4.1. What is the value and scriptPubKey of the 0th output of this transaction?\n",
    "```\n",
    "d1c789a9c60383bf715f3f6ad9d14b91fe55f3deb369fe5d9280cb1a01793f81\n",
    "```\n",
    "\n",
    "#### 4.2. Make [these tests](/edit/session4/tx.py) pass\n",
    "```\n",
    "tx.py:TxTest:test_input_value\n",
    "tx.py:TxTest:test_input_pubkey\n",
    "```"
   ]
  },
  {
   "cell_type": "code",
   "execution_count": 68,
   "metadata": {},
   "outputs": [
    {
     "name": "stdout",
     "output_type": "stream",
     "text": [
      "42505594\n",
      "OP_DUP OP_HASH160 a802fc56c704ce87c42d7c92eb75e7896bdc41ae OP_EQUALVERIFY OP_CHECKSIG \n"
     ]
    }
   ],
   "source": [
    "# Exercise 4.1\n",
    "\n",
    "from tx import TxIn\n",
    "\n",
    "prev_tx = bytes.fromhex('d1c789a9c60383bf715f3f6ad9d14b91fe55f3deb369fe5d9280cb1a01793f81') \n",
    "prev_index = 0\n",
    "\n",
    "# create the transaction input (use blank script_sig and 0xffffffff for sequence)\n",
    "tx_in = TxIn(prev_tx, 0, b'', 0xffffffff)\n",
    "# fetch the transaction\n",
    "t = tx_in.fetch_tx()\n",
    "# grab the output at the index\n",
    "prev_output = t.tx_outs[prev_index]\n",
    "# show the amount\n",
    "print(prev_output.amount)\n",
    "# show the script_pubkey\n",
    "print(prev_output.script_pubkey)"
   ]
  },
  {
   "cell_type": "code",
   "execution_count": 7,
   "metadata": {},
   "outputs": [
    {
     "name": "stderr",
     "output_type": "stream",
     "text": [
      ".\n",
      "----------------------------------------------------------------------\n",
      "Ran 1 test in 0.636s\n",
      "\n",
      "OK\n",
      ".\n",
      "----------------------------------------------------------------------\n",
      "Ran 1 test in 0.003s\n",
      "\n",
      "OK\n"
     ]
    }
   ],
   "source": [
    "# Exercise 4.2\n",
    "\n",
    "reload(tx)\n",
    "run_test(tx.TxTest('test_input_value'))\n",
    "run_test(tx.TxTest('test_input_pubkey'))"
   ]
  },
  {
   "cell_type": "markdown",
   "metadata": {},
   "source": [
    "### Exercise 5\n",
    "\n",
    "#### 5.1. How much is the transaction fee of this transaction?\n",
    "```\n",
    "010000000456919960ac691763688d3d3bcea9ad6ecaf875df5339e148a1fc61c6ed7a069e010000006a47304402204585bcdef85e6b1c6af5c2669d4830ff86e42dd205c0e089bc2a821657e951c002201024a10366077f87d6bce1f7100ad8cfa8a064b39d4e8fe4ea13a7b71aa8180f012102f0da57e85eec2934a82a585ea337ce2f4998b50ae699dd79f5880e253dafafb7feffffffeb8f51f4038dc17e6313cf831d4f02281c2a468bde0fafd37f1bf882729e7fd3000000006a47304402207899531a52d59a6de200179928ca900254a36b8dff8bb75f5f5d71b1cdc26125022008b422690b8461cb52c3cc30330b23d574351872b7c361e9aae3649071c1a7160121035d5c93d9ac96881f19ba1f686f15f009ded7c62efe85a872e6a19b43c15a2937feffffff567bf40595119d1bb8a3037c356efd56170b64cbcc160fb028fa10704b45d775000000006a47304402204c7c7818424c7f7911da6cddc59655a70af1cb5eaf17c69dadbfc74ffa0b662f02207599e08bc8023693ad4e9527dc42c34210f7a7d1d1ddfc8492b654a11e7620a0012102158b46fbdff65d0172b7989aec8850aa0dae49abfb84c81ae6e5b251a58ace5cfeffffffd63a5e6c16e620f86f375925b21cabaf736c779f88fd04dcad51d26690f7f345010000006a47304402200633ea0d3314bea0d95b3cd8dadb2ef79ea8331ffe1e61f762c0f6daea0fabde022029f23b3e9c30f080446150b23852028751635dcee2be669c2a1686a4b5edf304012103ffd6f4a67e94aba353a00882e563ff2722eb4cff0ad6006e86ee20dfe7520d55feffffff0251430f00000000001976a914ab0c0b2e98b1ab6dbf67d4750b0a56244948a87988ac005a6202000000001976a9143c82d7df364eb6c75be8c80df2b3eda8db57397088ac46430600\n",
    "```\n",
    "\n",
    "Fee is simply the sum of the inputs (use the value() method) minus the outputs (use the amount property)\n",
    "\n",
    "#### 5.2. Make [this test](/edit/session4/tx.py) pass\n",
    "```\n",
    "tx.py:TxTest:test_fee\n",
    "```"
   ]
  },
  {
   "cell_type": "code",
   "execution_count": 8,
   "metadata": {},
   "outputs": [
    {
     "name": "stdout",
     "output_type": "stream",
     "text": [
      "140500\n"
     ]
    }
   ],
   "source": [
    "# Exercise 5.1\n",
    "\n",
    "from io import BytesIO\n",
    "from tx import Tx\n",
    "\n",
    "hex_tx = '010000000456919960ac691763688d3d3bcea9ad6ecaf875df5339e148a1fc61c6ed7a069e010000006a47304402204585bcdef85e6b1c6af5c2669d4830ff86e42dd205c0e089bc2a821657e951c002201024a10366077f87d6bce1f7100ad8cfa8a064b39d4e8fe4ea13a7b71aa8180f012102f0da57e85eec2934a82a585ea337ce2f4998b50ae699dd79f5880e253dafafb7feffffffeb8f51f4038dc17e6313cf831d4f02281c2a468bde0fafd37f1bf882729e7fd3000000006a47304402207899531a52d59a6de200179928ca900254a36b8dff8bb75f5f5d71b1cdc26125022008b422690b8461cb52c3cc30330b23d574351872b7c361e9aae3649071c1a7160121035d5c93d9ac96881f19ba1f686f15f009ded7c62efe85a872e6a19b43c15a2937feffffff567bf40595119d1bb8a3037c356efd56170b64cbcc160fb028fa10704b45d775000000006a47304402204c7c7818424c7f7911da6cddc59655a70af1cb5eaf17c69dadbfc74ffa0b662f02207599e08bc8023693ad4e9527dc42c34210f7a7d1d1ddfc8492b654a11e7620a0012102158b46fbdff65d0172b7989aec8850aa0dae49abfb84c81ae6e5b251a58ace5cfeffffffd63a5e6c16e620f86f375925b21cabaf736c779f88fd04dcad51d26690f7f345010000006a47304402200633ea0d3314bea0d95b3cd8dadb2ef79ea8331ffe1e61f762c0f6daea0fabde022029f23b3e9c30f080446150b23852028751635dcee2be669c2a1686a4b5edf304012103ffd6f4a67e94aba353a00882e563ff2722eb4cff0ad6006e86ee20dfe7520d55feffffff0251430f00000000001976a914ab0c0b2e98b1ab6dbf67d4750b0a56244948a87988ac005a6202000000001976a9143c82d7df364eb6c75be8c80df2b3eda8db57397088ac46430600'\n",
    "\n",
    "# bytes.fromhex the tx, make stream\n",
    "stream = BytesIO(bytes.fromhex(hex_tx))\n",
    "# parse the tx\n",
    "t = Tx.parse(stream)\n",
    "# initialize input sum\n",
    "input_sum = 0\n",
    "# iterate over all inputs (t.tx_ins)\n",
    "for tx_in in t.tx_ins:\n",
    "    # get the values from the TxIn.value method you wrote in 4.2\n",
    "    value = tx_in.value()\n",
    "    # add to input sum\n",
    "    input_sum += value\n",
    "# initialize output sum\n",
    "output_sum = 0\n",
    "# iterate over all outputs (t.tx_outs)\n",
    "for tx_out in t.tx_outs:\n",
    "    # get the amounts from the TxOut.amount property\n",
    "    value = tx_out.amount\n",
    "    # add to output sum\n",
    "    output_sum += value\n",
    "# fee is input sum - output sum\n",
    "fee = input_sum - output_sum\n",
    "print(fee)"
   ]
  },
  {
   "cell_type": "code",
   "execution_count": 9,
   "metadata": {},
   "outputs": [
    {
     "name": "stderr",
     "output_type": "stream",
     "text": [
      ".\n",
      "----------------------------------------------------------------------\n",
      "Ran 1 test in 2.880s\n",
      "\n",
      "OK\n"
     ]
    }
   ],
   "source": [
    "# Exercise 5.2\n",
    "\n",
    "reload(tx)\n",
    "run_test(tx.TxTest('test_fee'))"
   ]
  },
  {
   "cell_type": "code",
   "execution_count": 10,
   "metadata": {},
   "outputs": [
    {
     "name": "stdout",
     "output_type": "stream",
     "text": [
      "0x27e0c5994dec7824e56dec6b2fcb342eb7cdb0d0957c2fce9882f715e85d81a6\n"
     ]
    }
   ],
   "source": [
    "# double_sha256 example to get z\n",
    "\n",
    "from helper import double_sha256\n",
    "\n",
    "modified_tx = bytes.fromhex('0100000001813f79011acb80925dfe69b3def355fe914bd1d96a3f5f71bf8303c6a989c7d1000000001976a914a802fc56c704ce87c42d7c92eb75e7896bdc41ae88acfeffffff02a135ef01000000001976a914bc3b654dca7e56b04dca18f2566cdaf02e8d9ada88ac99c39800000000001976a9141c4bc762dd5423e332166702cb75f40df79fea1288ac1943060001000000')\n",
    "h = double_sha256(modified_tx)\n",
    "z = int.from_bytes(h, 'big')\n",
    "print(hex(z))"
   ]
  },
  {
   "cell_type": "markdown",
   "metadata": {},
   "source": [
    "### Exercise 6\n",
    "\n",
    "#### 6.1. Make [this test](/edit/session4/tx.py) pass\n",
    "```\n",
    "tx.py:TxTest:test_sig_hash\n",
    "```"
   ]
  },
  {
   "cell_type": "code",
   "execution_count": 11,
   "metadata": {},
   "outputs": [
    {
     "name": "stderr",
     "output_type": "stream",
     "text": [
      ".\n",
      "----------------------------------------------------------------------\n",
      "Ran 1 test in 1.067s\n",
      "\n",
      "OK\n"
     ]
    }
   ],
   "source": [
    "# Exercise 6.1\n",
    "\n",
    "reload(tx)\n",
    "run_test(tx.TxTest('test_sig_hash'))"
   ]
  },
  {
   "cell_type": "code",
   "execution_count": 69,
   "metadata": {},
   "outputs": [
    {
     "name": "stdout",
     "output_type": "stream",
     "text": [
      "18037338614366229343027734445863508930887653120159589908930024158807354868134\n",
      "True\n"
     ]
    }
   ],
   "source": [
    "# Validation example\n",
    "\n",
    "from io import BytesIO\n",
    "\n",
    "from ecc import S256Point, Signature\n",
    "from helper import double_sha256\n",
    "from tx import Tx\n",
    "\n",
    "modified_tx = bytes.fromhex('0100000001813f79011acb80925dfe69b3def355fe914bd1d96a3f5f71bf8303c6a989c7d1000000001976a914a802fc56c704ce87c42d7c92eb75e7896bdc41ae88acfeffffff02a135ef01000000001976a914bc3b654dca7e56b04dca18f2566cdaf02e8d9ada88ac99c39800000000001976a9141c4bc762dd5423e332166702cb75f40df79fea1288ac1943060001000000')\n",
    "\n",
    "# return hashlib.sha256(hashlib.sha256(s).digest()).digest()\n",
    "h = double_sha256(modified_tx)\n",
    "\n",
    "# return int.from_bytes(b, 'little')\n",
    "z = int.from_bytes(h, 'big') # 18037338614366229343027734445863508930887653120159589908930024158807354868134\n",
    "\n",
    "stream = BytesIO(bytes.fromhex('0100000001813f79011acb80925dfe69b3def355fe914bd1d96a3f5f71bf8303c6a989c7d1000000006b483045022100ed81ff192e75a3fd2304004dcadb746fa5e24c5031ccfcf21320b0277457c98f02207a986d955c6e0cb35d446a89d3f56100f4d7f67801c31967743a9c8e10615bed01210349fc4e631e3624a545de3f89f5d8684c7b8138bd94bdd531d2e213bf016b278afeffffff02a135ef01000000001976a914bc3b654dca7e56b04dca18f2566cdaf02e8d9ada88ac99c39800000000001976a9141c4bc762dd5423e332166702cb75f40df79fea1288ac19430600'))\n",
    "transaction = Tx.parse(stream)\n",
    "tx_in = transaction.tx_ins[0]\n",
    "sig = Signature.parse(tx_in.der_signature())\n",
    "point = S256Point.parse(tx_in.sec_pubkey())\n",
    "print(point.verify(z, sig))"
   ]
  },
  {
   "cell_type": "markdown",
   "metadata": {},
   "source": [
    "### Exercise 7\n",
    "\n",
    "#### 7.1. Validate this signature\n",
    "\n",
    "```\n",
    "sec = 0349fc4e631e3624a545de3f89f5d8684c7b8138bd94bdd531d2e213bf016b278a\n",
    "der = 3045022100ed81ff192e75a3fd2304004dcadb746fa5e24c5031ccfcf21320b0277457c98f02207a986d955c6e0cb35d446a89d3f56100f4d7f67801c31967743a9c8e10615bed\n",
    "z = 27e0c5994dec7824e56dec6b2fcb342eb7cdb0d0957c2fce9882f715e85d81a6\n",
    "```\n",
    "\n",
    "Remember:\n",
    "\n",
    "* `sec` is the serialization of the Public Key\n",
    "* `der` is the serialization of the Signature\n",
    "* `z` is the hash that you're verifying the signature against"
   ]
  },
  {
   "cell_type": "code",
   "execution_count": null,
   "metadata": {},
   "outputs": [],
   "source": [
    "# Exercise 7.1\n",
    "\n",
    "from ecc import S256Point, Signature\n",
    "\n",
    "sec = bytes.fromhex('0349fc4e631e3624a545de3f89f5d8684c7b8138bd94bdd531d2e213bf016b278a')\n",
    "der = bytes.fromhex('3045022100ed81ff192e75a3fd2304004dcadb746fa5e24c5031ccfcf21320b0277457c98f02207a986d955c6e0cb35d446a89d3f56100f4d7f67801c31967743a9c8e10615bed')\n",
    "z = 0x27e0c5994dec7824e56dec6b2fcb342eb7cdb0d0957c2fce9882f715e85d81a6\n",
    "\n",
    "# use S256Point.parse on the sec to get the public point\n",
    "point = S256Point.parse(sec)\n",
    "# use Signature.parse on the der to get the signature\n",
    "sig = Signature.parse(der)\n",
    "# use S256Point.verify method\n",
    "print(point.verify(z, sig))"
   ]
  },
  {
   "cell_type": "markdown",
   "metadata": {},
   "source": [
    "### Exercise 8\n",
    "\n",
    "#### 8.1. Validate the signature for the first input in this transaction.\n",
    "```\n",
    "01000000012f5ab4d2666744a44864a63162060c2ae36ab0a2375b1c2b6b43077ed5dcbed6000000006a473044022034177d53fcb8e8cba62432c5f6cc3d11c16df1db0bce20b874cfc61128b529e1022040c2681a2845f5eb0c46adb89585604f7bf8397b82db3517afb63f8e3d609c990121035e8b10b675477614809f3dde7fd0e33fb898af6d86f51a65a54c838fddd417a5feffffff02c5872e00000000001976a91441b835c78fb1406305727d8925ff315d90f9bbc588acae2e1700000000001976a914c300e84d277c6c7bcf17190ebc4e7744609f8b0c88ac31470600\n",
    "```"
   ]
  },
  {
   "cell_type": "code",
   "execution_count": 78,
   "metadata": {},
   "outputs": [
    {
     "name": "stdout",
     "output_type": "stream",
     "text": [
      "t version: 1\n",
      "tx_ins:\n",
      "d6bedcd57e07436b2b1c5b37a2b06ae32a0c066231a66448a4446766d2b45a2f:0\n",
      "\n",
      "tx_outs:\n",
      "3049413:OP_DUP OP_HASH160 41b835c78fb1406305727d8925ff315d90f9bbc5 OP_EQUALVERIFY OP_CHECKSIG \n",
      "1519278:OP_DUP OP_HASH160 c300e84d277c6c7bcf17190ebc4e7744609f8b0c OP_EQUALVERIFY OP_CHECKSIG \n",
      "\n",
      "locktime: 411441\n",
      "\n",
      "\n",
      " tx_in d6bedcd57e07436b2b1c5b37a2b06ae32a0c066231a66448a4446766d2b45a2f:0\n",
      "\n",
      " der b'0D\\x02 4\\x17}S\\xfc\\xb8\\xe8\\xcb\\xa6$2\\xc5\\xf6\\xcc=\\x11\\xc1m\\xf1\\xdb\\x0b\\xce \\xb8t\\xcf\\xc6\\x11(\\xb5)\\xe1\\x02 @\\xc2h\\x1a(E\\xf5\\xeb\\x0cF\\xad\\xb8\\x95\\x85`O{\\xf89{\\x82\\xdb5\\x17\\xaf\\xb6?\\x8e=`\\x9c\\x99'\n",
      "\n",
      " sec b'\\x03^\\x8b\\x10\\xb6uGv\\x14\\x80\\x9f=\\xde\\x7f\\xd0\\xe3?\\xb8\\x98\\xafm\\x86\\xf5\\x1ae\\xa5L\\x83\\x8f\\xdd\\xd4\\x17\\xa5'\n",
      "\n",
      " hash_type 1\n",
      "\n",
      " sig Signature(34177d53fcb8e8cba62432c5f6cc3d11c16df1db0bce20b874cfc61128b529e1,40c2681a2845f5eb0c46adb89585604f7bf8397b82db3517afb63f8e3d609c99)\n",
      "\n",
      " point Point(42763114855834013577840293705585515657131370498277961057528023045983381493669,68204973046791388047049264322944154269610263368152014196866825486400272242517)_115792089237316195423570985008687907853269984665640564039457584007908834671663\n",
      "\n",
      " z 66715174162859524053658001244365859083122070184930688200315473338152305181438\n",
      "True\n"
     ]
    }
   ],
   "source": [
    "# Exercise 8.1\n",
    "\n",
    "from io import BytesIO\n",
    "from ecc import S256Point, Signature\n",
    "from tx import Tx\n",
    "\n",
    "hex_tx = '01000000012f5ab4d2666744a44864a63162060c2ae36ab0a2375b1c2b6b43077ed5dcbed6000000006a473044022034177d53fcb8e8cba62432c5f6cc3d11c16df1db0bce20b874cfc61128b529e1022040c2681a2845f5eb0c46adb89585604f7bf8397b82db3517afb63f8e3d609c990121035e8b10b675477614809f3dde7fd0e33fb898af6d86f51a65a54c838fddd417a5feffffff02c5872e00000000001976a91441b835c78fb1406305727d8925ff315d90f9bbc588acae2e1700000000001976a914c300e84d277c6c7bcf17190ebc4e7744609f8b0c88ac31470600'\n",
    "stream = BytesIO(bytes.fromhex(hex_tx))\n",
    "index = 0\n",
    "\n",
    "# parse the transaction using Tx.Parse\n",
    "t = Tx.parse(stream)\n",
    "print('t', t)\n",
    "\n",
    "# grab the input at index\n",
    "tx_in = t.tx_ins[index]\n",
    "print('\\n tx_in', tx_in)\n",
    "\n",
    "# use the input's der_signature, sec_pubkey and hash_type methods to get data\n",
    "der = tx_in.der_signature()\n",
    "print('\\n der', der)\n",
    "\n",
    "sec = tx_in.sec_pubkey()\n",
    "print('\\n sec', sec)\n",
    "\n",
    "hash_type = tx_in.hash_type()\n",
    "print('\\n hash_type', hash_type)\n",
    "\n",
    "# parse the signature using Signature.parse\n",
    "sig = Signature.parse(der)\n",
    "print('\\n sig', sig)\n",
    "\n",
    "# parse the sec pubkey using S256Point.parse\n",
    "point = S256Point.parse(sec)\n",
    "print('\\n point', point)\n",
    "\n",
    "# use the sig_hash method on index and hash_type to get z\n",
    "z = t.sig_hash(index, hash_type)\n",
    "print ('\\n z', z)\n",
    "\n",
    "# use the pubkey to verify the signature (z, sig)\n",
    "print(point.verify(z, sig))"
   ]
  },
  {
   "cell_type": "code",
   "execution_count": null,
   "metadata": {},
   "outputs": [],
   "source": []
  },
  {
   "cell_type": "code",
   "execution_count": null,
   "metadata": {},
   "outputs": [],
   "source": []
  }
 ],
 "metadata": {
  "kernelspec": {
   "display_name": "Python 3",
   "language": "python",
   "name": "python3"
  },
  "language_info": {
   "codemirror_mode": {
    "name": "ipython",
    "version": 3
   },
   "file_extension": ".py",
   "mimetype": "text/x-python",
   "name": "python",
   "nbconvert_exporter": "python",
   "pygments_lexer": "ipython3",
   "version": "3.7.0"
  }
 },
 "nbformat": 4,
 "nbformat_minor": 2
}
