{
 "cells": [
  {
   "cell_type": "code",
   "execution_count": 17,
   "metadata": {},
   "outputs": [],
   "source": [
    "# import everything and define a test runner function\n",
    "from importlib import reload\n",
    "from helper import run_test\n",
    "\n",
    "import block\n",
    "import ecc\n",
    "import helper\n",
    "import script\n",
    "import tx"
   ]
  },
  {
   "cell_type": "markdown",
   "metadata": {},
   "source": [
    "### Exercise 1\n",
    "\n",
    "#### 1.1. Make [this test](/edit/session6/tx.py) pass\n",
    "```\n",
    "tx.py:TxTest:test_is_coinbase\n",
    "```"
   ]
  },
  {
   "cell_type": "code",
   "execution_count": 8,
   "metadata": {},
   "outputs": [
    {
     "name": "stderr",
     "output_type": "stream",
     "text": [
      ".\n",
      "----------------------------------------------------------------------\n",
      "Ran 1 test in 0.001s\n",
      "\n",
      "OK\n"
     ]
    }
   ],
   "source": [
    "# Exercise 1.1\n",
    "\n",
    "reload(tx)\n",
    "run_test(tx.TxTest('test_is_coinbase'))\n",
    "from io import BytesIO\n"
   ]
  },
  {
   "cell_type": "markdown",
   "metadata": {},
   "source": [
    "### Exercise 2\n",
    "\n",
    "#### 2.1. Make [this test](/edit/session6/tx.py) pass\n",
    "```\n",
    "tx.py:TxTest:test_coinbase_height\n",
    "```"
   ]
  },
  {
   "cell_type": "code",
   "execution_count": 18,
   "metadata": {},
   "outputs": [
    {
     "name": "stderr",
     "output_type": "stream",
     "text": [
      "."
     ]
    },
    {
     "name": "stdout",
     "output_type": "stream",
     "text": [
      "<module 'tx' from '/Users/leondo/Desktop/pb-exercises/session6/tx.py'>\n"
     ]
    },
    {
     "name": "stderr",
     "output_type": "stream",
     "text": [
      "\n",
      "----------------------------------------------------------------------\n",
      "Ran 1 test in 0.001s\n",
      "\n",
      "OK\n"
     ]
    }
   ],
   "source": [
    "# Exercise 2.1\n",
    "\n",
    "reload(tx)\n",
    "run_test(tx.TxTest('test_coinbase_height'))\n",
    "\n"
   ]
  },
  {
   "cell_type": "markdown",
   "metadata": {},
   "source": [
    "### Exercise 3\n",
    "\n",
    "#### 3.1. Find the output address corresponding to this ScriptPubKey\n",
    "```\n",
    "76a914338c84849423992471bffb1a54a8d9b1d69dc28a88ac\n",
    "```\n",
    "\n",
    "Remember the structure of pay-to-pubkey-hash (p2pkh) which has `OP_DUP OP_HASH160 <hash> OP_EQUALVERIFY OP_CHECKSIG`.\n",
    "\n",
    "You need to grab the hash160 and turn that into an address.\n",
    "\n",
    "#### 3.2. Make [this test](/edit/session6/script.py) pass\n",
    "```\n",
    "script.py:ScriptTest:test_address\n",
    "```"
   ]
  },
  {
   "cell_type": "code",
   "execution_count": 26,
   "metadata": {},
   "outputs": [
    {
     "name": "stdout",
     "output_type": "stream",
     "text": [
      "15hZo812Lx266Dot6T52krxpnhrNiaqHya\n"
     ]
    }
   ],
   "source": [
    "# Exercise 3.1\n",
    "# convert script pub key to address\n",
    "\n",
    "# hex --> binary --> parse with OPs\n",
    "\n",
    "from helper import h160_to_p2pkh_address\n",
    "from script import Script\n",
    "\n",
    "hex_script_pubkey = '76a914338c84849423992471bffb1a54a8d9b1d69dc28a88ac'\n",
    "\n",
    "# bytes.fromhex to get binary\n",
    "# v\\xa9\\x143\\x8c\\x84\\x84\\x94#\\x99$q\\xbf\\xfb\\x1aT\\xa8\\xd9\\xb1\\xd6\\x9d\\xc2\\x8a\\x88\\xac\n",
    "script_pubkey = bytes.fromhex(hex_script_pubkey)\n",
    "\n",
    "# parse with Script\n",
    "# s = OP_DUP OP_HASH160 338c84849423992471bffb1a54a8d9b1d69dc28a OP_EQUALVERIFY OP_CHECKSIG\n",
    "s = Script.parse(script_pubkey)\n",
    "\n",
    "# get the 3rd element, which should be the hash160\n",
    "# 338c84849423992471bffb1a54a8d9b1d69dc28a\n",
    "h160 = s.elements[2]\n",
    "\n",
    "# convert h160 to p2pkh address\n",
    "print(h160_to_p2pkh_address(h160))"
   ]
  },
  {
   "cell_type": "code",
   "execution_count": 19,
   "metadata": {},
   "outputs": [
    {
     "name": "stderr",
     "output_type": "stream",
     "text": [
      ".\n",
      "----------------------------------------------------------------------\n",
      "Ran 1 test in 0.001s\n",
      "\n",
      "OK\n"
     ]
    }
   ],
   "source": [
    "# Exercise 3.2\n",
    "\n",
    "reload(script)\n",
    "run_test(script.ScriptTest('test_address'))"
   ]
  },
  {
   "cell_type": "markdown",
   "metadata": {},
   "source": [
    "### Exercise 4\n",
    "\n",
    "#### 4.1. What is the double_sha256 of this block? Notice anything?\n",
    "```\n",
    "020000208ec39428b17323fa0ddec8e887b4a7c53b8c0a0a220cfd0000000000000000005b0750fce0a889502d40508d39576821155e9c9e3f5c3157f961db38fd8b25be1e77a759e93c0118a4ffd71d\n",
    "```\n",
    "\n",
    "#### 4.2. Make [these tests](/edit/session6/block.py) pass.\n",
    "```\n",
    "block.py:BlockTest:test_parse\n",
    "block.py:BlockTest:test_serialize\n",
    "block.py:BlockTest:test_hash\n",
    "```"
   ]
  },
  {
   "cell_type": "code",
   "execution_count": 35,
   "metadata": {},
   "outputs": [
    {
     "name": "stdout",
     "output_type": "stream",
     "text": [
      "fdsa\n",
      "\n",
      " bin_block b'\\x02\\x00\\x00 \\x8e\\xc3\\x94(\\xb1s#\\xfa\\r\\xde\\xc8\\xe8\\x87\\xb4\\xa7\\xc5;\\x8c\\n\\n\"\\x0c\\xfd\\x00\\x00\\x00\\x00\\x00\\x00\\x00\\x00\\x00[\\x07P\\xfc\\xe0\\xa8\\x89P-@P\\x8d9Wh!\\x15^\\x9c\\x9e?\\\\1W\\xf9a\\xdb8\\xfd\\x8b%\\xbe\\x1ew\\xa7Y\\xe9<\\x01\\x18\\xa4\\xff\\xd7\\x1d'\n",
      "\n",
      "result b'#u\\x04Mdj\\xd75\\x94\\xdd\\x0b7\\xb1\\x13\\xbe\\xcd\\xb09dXL\\x9e~\\x00\\x00\\x00\\x00\\x00\\x00\\x00\\x00\\x00'\n",
      "\n",
      " result 2375044d646ad73594dd0b37b113becdb03964584c9e7e000000000000000000\n"
     ]
    }
   ],
   "source": [
    "# Exercise 4.1\n",
    "# block in hex -> convert to binary --> double sha --> convert to hex\n",
    "\n",
    "from helper import double_sha256\n",
    "\n",
    "hex_block = '020000208ec39428b17323fa0ddec8e887b4a7c53b8c0a0a220cfd0000000000000000005b0750fce0a889502d40508d39576821155e9c9e3f5c3157f961db38fd8b25be1e77a759e93c0118a4ffd71d'\n",
    "\n",
    "# bytes.fromhex to get the binary\n",
    "bin_block = bytes.fromhex(hex_block)\n",
    "print('\\n bin_block', bin_block)\n",
    "\n",
    "# double_sha256 the result\n",
    "result = double_sha256(bin_block)\n",
    "print('\\nresult', result)\n",
    "\n",
    "# hex() to see what it looks like\n",
    "print('\\n result', result.hex())"
   ]
  },
  {
   "cell_type": "code",
   "execution_count": 32,
   "metadata": {
    "scrolled": true
   },
   "outputs": [
    {
     "name": "stderr",
     "output_type": "stream",
     "text": [
      ".\n",
      "----------------------------------------------------------------------\n",
      "Ran 1 test in 0.001s\n",
      "\n",
      "OK\n",
      ".\n",
      "----------------------------------------------------------------------\n",
      "Ran 1 test in 0.001s\n",
      "\n",
      "OK\n",
      ".\n",
      "----------------------------------------------------------------------\n",
      "Ran 1 test in 0.001s\n",
      "\n",
      "OK\n"
     ]
    }
   ],
   "source": [
    "# Exercise 4.2\n",
    "\n",
    "reload(block)\n",
    "run_test(block.BlockTest('test_parse'))\n",
    "run_test(block.BlockTest('test_serialize'))\n",
    "run_test(block.BlockTest('test_hash'))"
   ]
  },
  {
   "cell_type": "code",
   "execution_count": 39,
   "metadata": {},
   "outputs": [
    {
     "name": "stdout",
     "output_type": "stream",
     "text": [
      "version 536870914\n",
      "BIP9: True\n",
      "asdfasf: 1\n",
      "BIP91: False\n",
      "BIP141: True\n"
     ]
    }
   ],
   "source": [
    "# Version Signaling Example\n",
    "# parse block to find the bip version\n",
    "\n",
    "from io import BytesIO\n",
    "from block import Block\n",
    "\n",
    "hex_block = '020000208ec39428b17323fa0ddec8e887b4a7c53b8c0a0a220cfd0000000000000000005b0750fce0a889502d40508d39576821155e9c9e3f5c3157f961db38fd8b25be1e77a759e93c0118a4ffd71d'\n",
    "\n",
    "# bytes.fromhex to get the binary block\n",
    "bin_block = bytes.fromhex(hex_block)\n",
    "\n",
    "# create a stream using BytesIO\n",
    "stream = BytesIO(bin_block)\n",
    "\n",
    "# parse the block\n",
    "b = Block.parse(stream)\n",
    "\n",
    "# get the version. example: 536870914\n",
    "version = b.version\n",
    "print('version', version)\n",
    "\n",
    "# rightshift 29 (version >> 29) and see if it's equal to 0b001 for BIP9\n",
    "print('BIP9: {}'.format(version >> 29 == 0b001))\n",
    "# see if bit 4 (version >> 4) from the right is set ( & 1) for BIP91\n",
    "print('BIP91: {}'.format(version >> 4 & 1 == 1))\n",
    "# see if bit 1 (version >> 1) from the right is set ( & 1) for BIP141\n",
    "print('BIP141: {}'.format(version >> 1 & 1 == 1))"
   ]
  },
  {
   "cell_type": "markdown",
   "metadata": {},
   "source": [
    "### Exercise 5\n",
    "\n",
    "#### 5.1. Make [these tests](/edit/session6/block.py) pass.\n",
    "```\n",
    "block.py:BlockTest:test_bip9\n",
    "block.py:BlockTest:test_bip91\n",
    "block.py:BlockTest:test_bip141\n",
    "```"
   ]
  },
  {
   "cell_type": "code",
   "execution_count": 9,
   "metadata": {},
   "outputs": [
    {
     "name": "stderr",
     "output_type": "stream",
     "text": [
      ".\n",
      "----------------------------------------------------------------------\n",
      "Ran 1 test in 0.001s\n",
      "\n",
      "OK\n",
      ".\n",
      "----------------------------------------------------------------------\n",
      "Ran 1 test in 0.002s\n",
      "\n",
      "OK\n",
      ".\n",
      "----------------------------------------------------------------------\n",
      "Ran 1 test in 0.002s\n",
      "\n",
      "OK\n"
     ]
    }
   ],
   "source": [
    "# Exercise 5.1\n",
    "\n",
    "reload(block)\n",
    "run_test(block.BlockTest('test_bip9'))\n",
    "run_test(block.BlockTest('test_bip91'))\n",
    "run_test(block.BlockTest('test_bip141'))"
   ]
  },
  {
   "cell_type": "code",
   "execution_count": 76,
   "metadata": {},
   "outputs": [
    {
     "name": "stdout",
     "output_type": "stream",
     "text": [
      "\n",
      " exponent 22\n",
      "\n",
      " coefficinent 81129\n",
      "\n",
      " target 463164712246167276761510729661872363678383403433984\n",
      "\n",
      " difficulty 00000000000000000000013ce900000000000000000000000000000000000000\n"
     ]
    }
   ],
   "source": [
    "# Calculating Target from Bits Example\n",
    "\n",
    "# higher the bits (target), the easier it is\n",
    "# E93C0116 000000000000000000000\n",
    "# E93C0117 0000000000000000000\n",
    "\n",
    "\n",
    "from helper import little_endian_to_int\n",
    "\n",
    "bits = bytes.fromhex('E93C0116') # or 3913023768\n",
    "exponent = bits[-1]\n",
    "print('\\n exponent', exponent)\n",
    "\n",
    "coefficient = little_endian_to_int(bits[:-1])\n",
    "print('\\n coefficinent', coefficient)\n",
    "\n",
    "target = coefficient*256**(exponent-3)\n",
    "print('\\n target', target)\n",
    "\n",
    "# the more 0's prefixed, the harder it is to solve\n",
    "print('\\n difficulty', '{:x}'.format(target).zfill(64))"
   ]
  },
  {
   "cell_type": "code",
   "execution_count": 78,
   "metadata": {},
   "outputs": [
    {
     "name": "stdout",
     "output_type": "stream",
     "text": [
      "min 26959535291011309493156476344723991336010898738574164086137773096960\n",
      "target 30353962581764818649842367179120467226026534727449575424\n",
      "888171856257\n"
     ]
    }
   ],
   "source": [
    "# Calculating Difficulty from Target Example\n",
    "\n",
    "# \n",
    "\n",
    "from helper import little_endian_to_int\n",
    "\n",
    "bits = bytes.fromhex('e93c0118') # 3913023768\n",
    "exponent = bits[-1]\n",
    "coefficient = little_endian_to_int(bits[:-1])\n",
    "target = coefficient*256**(exponent-3)\n",
    "\n",
    "bits_min = bytes.fromhex('ffff001d') # 4294901789\n",
    "exponent_min = bits_min[-1]\n",
    "coefficient_min = little_endian_to_int(bits_min[:-1])\n",
    "min = coefficient_min*256**(exponent_min-3)\n",
    "\n",
    "# 26959535291011309493156476344723991336010898738574164086137773096960\n",
    "print('min', min) \n",
    "# 30353962581764818649842367179120467226026534727449575424\n",
    "print('target', target)\n",
    "# conclusion, target is less to increase difficulty\n",
    "\n",
    "difficulty = min // target\n",
    "print(difficulty)"
   ]
  },
  {
   "cell_type": "markdown",
   "metadata": {},
   "source": [
    "### Exercise 6\n",
    "\n",
    "#### 6.1. Calculate the target and difficulty for these bits:\n",
    "```\n",
    "f2881718\n",
    "```\n",
    "\n",
    "Bits to target formula is \n",
    "\n",
    "\\\\(coefficient\\cdot256^{(exponent-3)}\\\\) \n",
    "\n",
    "where coefficient is the first three bytes in little endian and exponent is the last byte.\n",
    "\n",
    "Target to Difficulty formula is \n",
    "\n",
    "\\\\(difficulty = min / target\\\\)\n",
    "\n",
    "where \\\\(min = 0xffff\\cdot256^{(0x1d-3)}\\\\)\n",
    "\n",
    "#### 6.2. Make [this test](/edit/session6/block.py) pass.\n",
    "```\n",
    "block.py:BlockTest:test_target\n",
    "```"
   ]
  },
  {
   "cell_type": "code",
   "execution_count": 12,
   "metadata": {},
   "outputs": [
    {
     "name": "stdout",
     "output_type": "stream",
     "text": [
      "00000000000000001788f2000000000000000000000000000000000000000000\n",
      "46717549644.70642\n"
     ]
    }
   ],
   "source": [
    "# Exercise 6.1\n",
    "\n",
    "from helper import little_endian_to_int\n",
    "\n",
    "hex_bits = 'f2881718'\n",
    "\n",
    "# bytes.fromhex to get the bits\n",
    "bits = bytes.fromhex(hex_bits)\n",
    "# last byte is exponent\n",
    "exponent = bits[-1]\n",
    "# first three bytes are the coefficient in little endian\n",
    "coefficient = little_endian_to_int(bits[:-1])\n",
    "# plug into formula coefficient * 2^(8*(exponent-3)) to get the target\n",
    "target = coefficient * 256**(exponent-3)\n",
    "# print target using print('{:x}'.format(target).zfill(64))\n",
    "print('{:x}'.format(target).zfill(64))\n",
    "\n",
    "hex_min_bits = 'ffff001d'\n",
    "# do the same for the min_bits for min target\n",
    "min_bits = bytes.fromhex(hex_min_bits)\n",
    "min_exponent = min_bits[-1]\n",
    "min_coefficient = little_endian_to_int(min_bits[:-1])\n",
    "min_target = min_coefficient * 256**(min_exponent-3)\n",
    "\n",
    "# difficulty is min target / target\n",
    "difficulty = min_target / target\n",
    "print(difficulty)"
   ]
  },
  {
   "cell_type": "code",
   "execution_count": 13,
   "metadata": {},
   "outputs": [
    {
     "name": "stderr",
     "output_type": "stream",
     "text": [
      ".\n",
      "----------------------------------------------------------------------\n",
      "Ran 1 test in 0.001s\n",
      "\n",
      "OK\n"
     ]
    }
   ],
   "source": [
    "# Exercise 6.2\n",
    "\n",
    "reload(block)\n",
    "run_test(block.BlockTest('test_target'))"
   ]
  },
  {
   "cell_type": "markdown",
   "metadata": {},
   "source": [
    "### Exercise 7\n",
    "\n",
    "#### 7.1.Validate the proof-of-work for this block\n",
    "```\n",
    "04000000fbedbbf0cfdaf278c094f187f2eb987c86a199da22bbb20400000000000000007b7697b29129648fa08b4bcd13c9d5e60abb973a1efac9c8d573c71c807c56c3d6213557faa80518c3737ec1\n",
    "```\n",
    "\n",
    "Check that the proof-of-work (double-sha256 interpreted as a little-endian number) is lower than the target.\n",
    "\n",
    "#### 7.2. Make [this test](/edit/session6/block.py) pass.\n",
    "```\n",
    "block.py:BlockTest:test_check_pow\n",
    "```"
   ]
  },
  {
   "cell_type": "code",
   "execution_count": 79,
   "metadata": {},
   "outputs": [
    {
     "name": "stdout",
     "output_type": "stream",
     "text": [
      "proof 119735700256567137634283769970339692044266992310090679113\n",
      "target 138784382553152119468195441786396823230753870240366460928\n",
      "True\n"
     ]
    }
   ],
   "source": [
    "# Exercise 7.1\n",
    "\n",
    "# target: \n",
    "# conclusion: proof must be less than target to be valid\n",
    "\n",
    "from io import BytesIO\n",
    "from helper import double_sha256, little_endian_to_int\n",
    "from block import Block\n",
    "\n",
    "hex_block = '04000000fbedbbf0cfdaf278c094f187f2eb987c86a199da22bbb20400000000000000007b7697b29129648fa08b4bcd13c9d5e60abb973a1efac9c8d573c71c807c56c3d6213557faa80518c3737ec1'\n",
    "\n",
    "# bytes.fromhex to get the binary block\n",
    "bin_block = bytes.fromhex(hex_block)\n",
    "# make a stream using BytesIO\n",
    "stream = BytesIO(bin_block)\n",
    "# parse the Block\n",
    "b = Block.parse(stream)\n",
    "\n",
    "# double_sha256 the serialization\n",
    "sha = double_sha256(b.serialize())\n",
    "# interpret the result as a number in little endian\n",
    "proof = little_endian_to_int(sha)\n",
    "# get the target\n",
    "target = b.target()\n",
    "\n",
    "print('proof', proof)\n",
    "print('target', target)\n",
    "# check proof of work < target\n",
    "print(proof < target)"
   ]
  },
  {
   "cell_type": "code",
   "execution_count": 15,
   "metadata": {},
   "outputs": [
    {
     "name": "stderr",
     "output_type": "stream",
     "text": [
      ".\n",
      "----------------------------------------------------------------------\n",
      "Ran 1 test in 0.001s\n",
      "\n",
      "OK\n"
     ]
    }
   ],
   "source": [
    "# Exercise 7.2\n",
    "\n",
    "reload(block)\n",
    "run_test(block.BlockTest('test_check_pow'))"
   ]
  }
 ],
 "metadata": {
  "kernelspec": {
   "display_name": "Python 3",
   "language": "python",
   "name": "python3"
  },
  "language_info": {
   "codemirror_mode": {
    "name": "ipython",
    "version": 3
   },
   "file_extension": ".py",
   "mimetype": "text/x-python",
   "name": "python",
   "nbconvert_exporter": "python",
   "pygments_lexer": "ipython3",
   "version": "3.7.0"
  }
 },
 "nbformat": 4,
 "nbformat_minor": 2
}
